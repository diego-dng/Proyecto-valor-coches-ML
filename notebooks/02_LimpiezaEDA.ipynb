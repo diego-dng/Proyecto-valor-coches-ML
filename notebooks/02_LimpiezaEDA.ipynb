{
 "cells": [
  {
   "cell_type": "markdown",
   "metadata": {},
   "source": [
    "# LimpiezaEDA."
   ]
  },
  {
   "cell_type": "code",
   "execution_count": 1,
   "metadata": {},
   "outputs": [],
   "source": [
    "import pandas as pd\n",
    "import numpy as np\n",
    "import matplotlib.pyplot as plt\n",
    "import seaborn as sns"
   ]
  },
  {
   "cell_type": "markdown",
   "metadata": {},
   "source": [
    "Separamos es Dataset original en el csv de entrenamiento y el csv de test"
   ]
  },
  {
   "cell_type": "code",
   "execution_count": 4,
   "metadata": {},
   "outputs": [],
   "source": [
    "# Leer el archivo CSV original.\n",
    "df = pd.read_csv(\"../data/raw/coches-de-segunda-mano-sample.csv\")\n",
    "\n",
    "# Separo los registros de train.\n",
    "train = df.tail(40000)\n",
    "# Guardar los registros que destino para train en un nuevo csv.\n",
    "train.to_csv(\"../data/train/coches_train.csv\", index=False)\n",
    "# Separo los ultimos 10000 registros para test.\n",
    "test = df.tail(10000)\n",
    "# Guardar los últimos registros para test en un nuevo csv.\n",
    "test.to_csv(\"../data/test/coches_test.csv\", index=False)"
   ]
  },
  {
   "cell_type": "markdown",
   "metadata": {},
   "source": [
    "## Limpieza de datos."
   ]
  },
  {
   "cell_type": "code",
   "execution_count": 23,
   "metadata": {},
   "outputs": [
    {
     "data": {
      "text/html": [
       "<div>\n",
       "<style scoped>\n",
       "    .dataframe tbody tr th:only-of-type {\n",
       "        vertical-align: middle;\n",
       "    }\n",
       "\n",
       "    .dataframe tbody tr th {\n",
       "        vertical-align: top;\n",
       "    }\n",
       "\n",
       "    .dataframe thead th {\n",
       "        text-align: right;\n",
       "    }\n",
       "</style>\n",
       "<table border=\"1\" class=\"dataframe\">\n",
       "  <thead>\n",
       "    <tr style=\"text-align: right;\">\n",
       "      <th></th>\n",
       "      <th>url</th>\n",
       "      <th>company</th>\n",
       "      <th>make</th>\n",
       "      <th>model</th>\n",
       "      <th>version</th>\n",
       "      <th>price</th>\n",
       "      <th>price_financed</th>\n",
       "      <th>fuel</th>\n",
       "      <th>year</th>\n",
       "      <th>kms</th>\n",
       "      <th>...</th>\n",
       "      <th>doors</th>\n",
       "      <th>shift</th>\n",
       "      <th>color</th>\n",
       "      <th>photos</th>\n",
       "      <th>is_professional</th>\n",
       "      <th>dealer</th>\n",
       "      <th>province</th>\n",
       "      <th>country</th>\n",
       "      <th>publish_date</th>\n",
       "      <th>insert_date</th>\n",
       "    </tr>\n",
       "  </thead>\n",
       "  <tbody>\n",
       "    <tr>\n",
       "      <th>0</th>\n",
       "      <td>d231f84f2fc3c62e49086c9e2cae3a09</td>\n",
       "      <td>9881bcdd5a0ad4733037b3fb25e69c3a</td>\n",
       "      <td>SEAT</td>\n",
       "      <td>Ibiza</td>\n",
       "      <td>SEAT Ibiza 1.4 TDI 77kW 105CV FR 5p.</td>\n",
       "      <td>11500</td>\n",
       "      <td>10454.0</td>\n",
       "      <td>Diésel</td>\n",
       "      <td>2017.0</td>\n",
       "      <td>88981</td>\n",
       "      <td>...</td>\n",
       "      <td>5</td>\n",
       "      <td>Manual</td>\n",
       "      <td>B4B4 Blanco (sÃ³lido)</td>\n",
       "      <td>39</td>\n",
       "      <td>True</td>\n",
       "      <td>Ocasion Plus</td>\n",
       "      <td>Madrid</td>\n",
       "      <td>Spain</td>\n",
       "      <td>2021-01-04 13:05:43</td>\n",
       "      <td>2021-01-15 00:00:00</td>\n",
       "    </tr>\n",
       "    <tr>\n",
       "      <th>1</th>\n",
       "      <td>981ae51381b78033eec9986944bcfbbf</td>\n",
       "      <td>9881bcdd5a0ad4733037b3fb25e69c3a</td>\n",
       "      <td>FORD</td>\n",
       "      <td>Mondeo</td>\n",
       "      <td>FORD Mondeo 2.0 TDCi 110kW 150CV Trend 5p.</td>\n",
       "      <td>13999</td>\n",
       "      <td>12999.0</td>\n",
       "      <td>Diésel</td>\n",
       "      <td>2016.0</td>\n",
       "      <td>88000</td>\n",
       "      <td>...</td>\n",
       "      <td>5</td>\n",
       "      <td>Manual</td>\n",
       "      <td>Blanco</td>\n",
       "      <td>10</td>\n",
       "      <td>True</td>\n",
       "      <td>Guillen Motor</td>\n",
       "      <td>Murcia</td>\n",
       "      <td>Spain</td>\n",
       "      <td>2021-01-14 19:46:01</td>\n",
       "      <td>2021-01-15 00:00:00</td>\n",
       "    </tr>\n",
       "    <tr>\n",
       "      <th>2</th>\n",
       "      <td>8ad6e228a4393fdf97c8f0e908730169</td>\n",
       "      <td>9881bcdd5a0ad4733037b3fb25e69c3a</td>\n",
       "      <td>AUDI</td>\n",
       "      <td>A4</td>\n",
       "      <td>AUDI</td>\n",
       "      <td>6500</td>\n",
       "      <td>NaN</td>\n",
       "      <td>Diésel</td>\n",
       "      <td>2008.0</td>\n",
       "      <td>234000</td>\n",
       "      <td>...</td>\n",
       "      <td>4</td>\n",
       "      <td>Automático</td>\n",
       "      <td>Negro</td>\n",
       "      <td>9</td>\n",
       "      <td>False</td>\n",
       "      <td>d41219060e0c16c228ed4682cade6379</td>\n",
       "      <td>Baleares</td>\n",
       "      <td>Spain</td>\n",
       "      <td>2020-12-17 09:40:59</td>\n",
       "      <td>2021-01-15 00:00:00</td>\n",
       "    </tr>\n",
       "    <tr>\n",
       "      <th>3</th>\n",
       "      <td>15f08e312411d276f07cc43bed78eb8f</td>\n",
       "      <td>9881bcdd5a0ad4733037b3fb25e69c3a</td>\n",
       "      <td>MASERATI</td>\n",
       "      <td>Levante</td>\n",
       "      <td>MASERATI Levante S 5p.</td>\n",
       "      <td>54000</td>\n",
       "      <td>NaN</td>\n",
       "      <td>Gasolina</td>\n",
       "      <td>2016.0</td>\n",
       "      <td>62000</td>\n",
       "      <td>...</td>\n",
       "      <td>5</td>\n",
       "      <td>Automático</td>\n",
       "      <td>Azul</td>\n",
       "      <td>8</td>\n",
       "      <td>False</td>\n",
       "      <td>651faef175451b43088ed6fab4aab961</td>\n",
       "      <td>Madrid</td>\n",
       "      <td>Spain</td>\n",
       "      <td>2020-12-30 11:30:25</td>\n",
       "      <td>2021-01-15 00:00:00</td>\n",
       "    </tr>\n",
       "    <tr>\n",
       "      <th>4</th>\n",
       "      <td>da10dcae415dd7f21242308483192f9b</td>\n",
       "      <td>9881bcdd5a0ad4733037b3fb25e69c3a</td>\n",
       "      <td>SEAT</td>\n",
       "      <td>Exeo</td>\n",
       "      <td>SEAT Exeo 1.8 TSI 120 CV Reference 4p.</td>\n",
       "      <td>7500</td>\n",
       "      <td>NaN</td>\n",
       "      <td>Gasolina</td>\n",
       "      <td>2011.0</td>\n",
       "      <td>150000</td>\n",
       "      <td>...</td>\n",
       "      <td>4</td>\n",
       "      <td>Manual</td>\n",
       "      <td>Gris / Plata</td>\n",
       "      <td>16</td>\n",
       "      <td>True</td>\n",
       "      <td>Vehiculos Seminuevos J&amp;J Cars S.L</td>\n",
       "      <td>Madrid</td>\n",
       "      <td>Spain</td>\n",
       "      <td>2020-12-29 16:17:40</td>\n",
       "      <td>2021-01-15 00:00:00</td>\n",
       "    </tr>\n",
       "  </tbody>\n",
       "</table>\n",
       "<p>5 rows × 21 columns</p>\n",
       "</div>"
      ],
      "text/plain": [
       "                                url                           company  \\\n",
       "0  d231f84f2fc3c62e49086c9e2cae3a09  9881bcdd5a0ad4733037b3fb25e69c3a   \n",
       "1  981ae51381b78033eec9986944bcfbbf  9881bcdd5a0ad4733037b3fb25e69c3a   \n",
       "2  8ad6e228a4393fdf97c8f0e908730169  9881bcdd5a0ad4733037b3fb25e69c3a   \n",
       "3  15f08e312411d276f07cc43bed78eb8f  9881bcdd5a0ad4733037b3fb25e69c3a   \n",
       "4  da10dcae415dd7f21242308483192f9b  9881bcdd5a0ad4733037b3fb25e69c3a   \n",
       "\n",
       "       make    model                                     version  price  \\\n",
       "0      SEAT    Ibiza        SEAT Ibiza 1.4 TDI 77kW 105CV FR 5p.  11500   \n",
       "1      FORD   Mondeo  FORD Mondeo 2.0 TDCi 110kW 150CV Trend 5p.  13999   \n",
       "2      AUDI       A4                                        AUDI   6500   \n",
       "3  MASERATI  Levante                      MASERATI Levante S 5p.  54000   \n",
       "4      SEAT     Exeo      SEAT Exeo 1.8 TSI 120 CV Reference 4p.   7500   \n",
       "\n",
       "   price_financed      fuel    year     kms  ...  doors       shift  \\\n",
       "0         10454.0    Diésel  2017.0   88981  ...      5      Manual   \n",
       "1         12999.0    Diésel  2016.0   88000  ...      5      Manual   \n",
       "2             NaN    Diésel  2008.0  234000  ...      4  Automático   \n",
       "3             NaN  Gasolina  2016.0   62000  ...      5  Automático   \n",
       "4             NaN  Gasolina  2011.0  150000  ...      4      Manual   \n",
       "\n",
       "                   color photos  is_professional  \\\n",
       "0  B4B4 Blanco (sÃ³lido)     39             True   \n",
       "1                 Blanco     10             True   \n",
       "2                  Negro      9            False   \n",
       "3                   Azul      8            False   \n",
       "4           Gris / Plata     16             True   \n",
       "\n",
       "                              dealer  province country         publish_date  \\\n",
       "0                       Ocasion Plus    Madrid   Spain  2021-01-04 13:05:43   \n",
       "1                      Guillen Motor    Murcia   Spain  2021-01-14 19:46:01   \n",
       "2   d41219060e0c16c228ed4682cade6379  Baleares   Spain  2020-12-17 09:40:59   \n",
       "3   651faef175451b43088ed6fab4aab961    Madrid   Spain  2020-12-30 11:30:25   \n",
       "4  Vehiculos Seminuevos J&J Cars S.L    Madrid   Spain  2020-12-29 16:17:40   \n",
       "\n",
       "           insert_date  \n",
       "0  2021-01-15 00:00:00  \n",
       "1  2021-01-15 00:00:00  \n",
       "2  2021-01-15 00:00:00  \n",
       "3  2021-01-15 00:00:00  \n",
       "4  2021-01-15 00:00:00  \n",
       "\n",
       "[5 rows x 21 columns]"
      ]
     },
     "execution_count": 23,
     "metadata": {},
     "output_type": "execute_result"
    }
   ],
   "source": [
    "# Creo el Dataframe con los datos del csv de \"coches_train.csv\"\n",
    "df = pd.read_csv(\"../data/train/coches_train.csv\")\n",
    "df.head()"
   ]
  },
  {
   "cell_type": "code",
   "execution_count": 24,
   "metadata": {},
   "outputs": [
    {
     "name": "stdout",
     "output_type": "stream",
     "text": [
      "<class 'pandas.core.frame.DataFrame'>\n",
      "RangeIndex: 40000 entries, 0 to 39999\n",
      "Data columns (total 21 columns):\n",
      " #   Column           Non-Null Count  Dtype  \n",
      "---  ------           --------------  -----  \n",
      " 0   url              40000 non-null  object \n",
      " 1   company          40000 non-null  object \n",
      " 2   make             39999 non-null  object \n",
      " 3   model            39996 non-null  object \n",
      " 4   version          40000 non-null  object \n",
      " 5   price            40000 non-null  int64  \n",
      " 6   price_financed   18927 non-null  float64\n",
      " 7   fuel             39963 non-null  object \n",
      " 8   year             39998 non-null  float64\n",
      " 9   kms              40000 non-null  int64  \n",
      " 10  power            33211 non-null  float64\n",
      " 11  doors            40000 non-null  int64  \n",
      " 12  shift            39913 non-null  object \n",
      " 13  color            39525 non-null  object \n",
      " 14  photos           40000 non-null  int64  \n",
      " 15  is_professional  40000 non-null  bool   \n",
      " 16  dealer           40000 non-null  object \n",
      " 17  province         39996 non-null  object \n",
      " 18  country          40000 non-null  object \n",
      " 19  publish_date     40000 non-null  object \n",
      " 20  insert_date      40000 non-null  object \n",
      "dtypes: bool(1), float64(3), int64(4), object(13)\n",
      "memory usage: 6.1+ MB\n"
     ]
    }
   ],
   "source": [
    "df.info()"
   ]
  },
  {
   "cell_type": "markdown",
   "metadata": {},
   "source": [
    "Las variables predictoras que quiero usar son:\n",
    "- Marca del vehículo.\n",
    "- Modelo del vehículo.\n",
    "- Tipo de combustible.\n",
    "- Año.\n",
    "- Kilómetros.\n",
    "- Potencia.\n",
    "- Tipo de transmisión."
   ]
  },
  {
   "cell_type": "code",
   "execution_count": 25,
   "metadata": {},
   "outputs": [],
   "source": [
    "# Elimino la columna de precio financiado para evitar perdida de registros al limpiar los \"Nan\"\n",
    "df = df.drop(columns=\"price_financed\")"
   ]
  },
  {
   "cell_type": "code",
   "execution_count": 26,
   "metadata": {},
   "outputs": [],
   "source": [
    "df = df.dropna()"
   ]
  },
  {
   "cell_type": "code",
   "execution_count": 27,
   "metadata": {},
   "outputs": [
    {
     "name": "stdout",
     "output_type": "stream",
     "text": [
      "<class 'pandas.core.frame.DataFrame'>\n",
      "Index: 33029 entries, 0 to 39999\n",
      "Data columns (total 20 columns):\n",
      " #   Column           Non-Null Count  Dtype  \n",
      "---  ------           --------------  -----  \n",
      " 0   url              33029 non-null  object \n",
      " 1   company          33029 non-null  object \n",
      " 2   make             33029 non-null  object \n",
      " 3   model            33029 non-null  object \n",
      " 4   version          33029 non-null  object \n",
      " 5   price            33029 non-null  int64  \n",
      " 6   fuel             33029 non-null  object \n",
      " 7   year             33029 non-null  float64\n",
      " 8   kms              33029 non-null  int64  \n",
      " 9   power            33029 non-null  float64\n",
      " 10  doors            33029 non-null  int64  \n",
      " 11  shift            33029 non-null  object \n",
      " 12  color            33029 non-null  object \n",
      " 13  photos           33029 non-null  int64  \n",
      " 14  is_professional  33029 non-null  bool   \n",
      " 15  dealer           33029 non-null  object \n",
      " 16  province         33029 non-null  object \n",
      " 17  country          33029 non-null  object \n",
      " 18  publish_date     33029 non-null  object \n",
      " 19  insert_date      33029 non-null  object \n",
      "dtypes: bool(1), float64(2), int64(4), object(13)\n",
      "memory usage: 5.1+ MB\n"
     ]
    }
   ],
   "source": [
    "df.info()"
   ]
  },
  {
   "cell_type": "code",
   "execution_count": 29,
   "metadata": {},
   "outputs": [
    {
     "data": {
      "text/plain": [
       "<Axes: >"
      ]
     },
     "execution_count": 29,
     "metadata": {},
     "output_type": "execute_result"
    },
    {
     "data": {
      "image/png": "[encoded data removed]",
      "text/plain": [
       "<Figure size 640x480 with 2 Axes>"
      ]
     },
     "metadata": {},
     "output_type": "display_data"
    }
   ],
   "source": [
    "sns.heatmap(df[[\"price\", \"year\", \"kms\", \"power\", \"doors\"]].corr(), annot= True)"
   ]
  },
  {
   "cell_type": "markdown",
   "metadata": {},
   "source": [
    "## Modelos."
   ]
  },
  {
   "cell_type": "code",
   "execution_count": 36,
   "metadata": {},
   "outputs": [],
   "source": [
    "from sklearn.model_selection import train_test_split\n",
    "from sklearn.linear_model import LinearRegression\n",
    "from sklearn import metrics"
   ]
  },
  {
   "cell_type": "code",
   "execution_count": 31,
   "metadata": {},
   "outputs": [],
   "source": [
    "x = df[[\"year\", \"kms\", \"power\", \"doors\"]]\n",
    "y = df[\"price\"]"
   ]
  },
  {
   "cell_type": "code",
   "execution_count": 32,
   "metadata": {},
   "outputs": [],
   "source": [
    "x_train, x_test, y_train, y_test = train_test_split(x, y, test_size=0.2, random_state=10)"
   ]
  },
  {
   "cell_type": "code",
   "execution_count": 33,
   "metadata": {},
   "outputs": [
    {
     "data": {
      "text/html": [
       "<style>#sk-container-id-1 {color: black;}#sk-container-id-1 pre{padding: 0;}#sk-container-id-1 div.sk-toggleable {background-color: white;}#sk-container-id-1 label.sk-toggleable__label {cursor: pointer;display: block;width: 100%;margin-bottom: 0;padding: 0.3em;box-sizing: border-box;text-align: center;}#sk-container-id-1 label.sk-toggleable__label-arrow:before {content: \"▸\";float: left;margin-right: 0.25em;color: #696969;}#sk-container-id-1 label.sk-toggleable__label-arrow:hover:before {color: black;}#sk-container-id-1 div.sk-estimator:hover label.sk-toggleable__label-arrow:before {color: black;}#sk-container-id-1 div.sk-toggleable__content {max-height: 0;max-width: 0;overflow: hidden;text-align: left;background-color: #f0f8ff;}#sk-container-id-1 div.sk-toggleable__content pre {margin: 0.2em;color: black;border-radius: 0.25em;background-color: #f0f8ff;}#sk-container-id-1 input.sk-toggleable__control:checked~div.sk-toggleable__content {max-height: 200px;max-width: 100%;overflow: auto;}#sk-container-id-1 input.sk-toggleable__control:checked~label.sk-toggleable__label-arrow:before {content: \"▾\";}#sk-container-id-1 div.sk-estimator input.sk-toggleable__control:checked~label.sk-toggleable__label {background-color: #d4ebff;}#sk-container-id-1 div.sk-label input.sk-toggleable__control:checked~label.sk-toggleable__label {background-color: #d4ebff;}#sk-container-id-1 input.sk-hidden--visually {border: 0;clip: rect(1px 1px 1px 1px);clip: rect(1px, 1px, 1px, 1px);height: 1px;margin: -1px;overflow: hidden;padding: 0;position: absolute;width: 1px;}#sk-container-id-1 div.sk-estimator {font-family: monospace;background-color: #f0f8ff;border: 1px dotted black;border-radius: 0.25em;box-sizing: border-box;margin-bottom: 0.5em;}#sk-container-id-1 div.sk-estimator:hover {background-color: #d4ebff;}#sk-container-id-1 div.sk-parallel-item::after {content: \"\";width: 100%;border-bottom: 1px solid gray;flex-grow: 1;}#sk-container-id-1 div.sk-label:hover label.sk-toggleable__label {background-color: #d4ebff;}#sk-container-id-1 div.sk-serial::before {content: \"\";position: absolute;border-left: 1px solid gray;box-sizing: border-box;top: 0;bottom: 0;left: 50%;z-index: 0;}#sk-container-id-1 div.sk-serial {display: flex;flex-direction: column;align-items: center;background-color: white;padding-right: 0.2em;padding-left: 0.2em;position: relative;}#sk-container-id-1 div.sk-item {position: relative;z-index: 1;}#sk-container-id-1 div.sk-parallel {display: flex;align-items: stretch;justify-content: center;background-color: white;position: relative;}#sk-container-id-1 div.sk-item::before, #sk-container-id-1 div.sk-parallel-item::before {content: \"\";position: absolute;border-left: 1px solid gray;box-sizing: border-box;top: 0;bottom: 0;left: 50%;z-index: -1;}#sk-container-id-1 div.sk-parallel-item {display: flex;flex-direction: column;z-index: 1;position: relative;background-color: white;}#sk-container-id-1 div.sk-parallel-item:first-child::after {align-self: flex-end;width: 50%;}#sk-container-id-1 div.sk-parallel-item:last-child::after {align-self: flex-start;width: 50%;}#sk-container-id-1 div.sk-parallel-item:only-child::after {width: 0;}#sk-container-id-1 div.sk-dashed-wrapped {border: 1px dashed gray;margin: 0 0.4em 0.5em 0.4em;box-sizing: border-box;padding-bottom: 0.4em;background-color: white;}#sk-container-id-1 div.sk-label label {font-family: monospace;font-weight: bold;display: inline-block;line-height: 1.2em;}#sk-container-id-1 div.sk-label-container {text-align: center;}#sk-container-id-1 div.sk-container {/* jupyter's `normalize.less` sets `[hidden] { display: none; }` but bootstrap.min.css set `[hidden] { display: none !important; }` so we also need the `!important` here to be able to override the default hidden behavior on the sphinx rendered scikit-learn.org. See: https://github.com/scikit-learn/scikit-learn/issues/21755 */display: inline-block !important;position: relative;}#sk-container-id-1 div.sk-text-repr-fallback {display: none;}</style><div id=\"sk-container-id-1\" class=\"sk-top-container\"><div class=\"sk-text-repr-fallback\"><pre>LinearRegression()</pre><b>In a Jupyter environment, please rerun this cell to show the HTML representation or trust the notebook. <br />On GitHub, the HTML representation is unable to render, please try loading this page with nbviewer.org.</b></div><div class=\"sk-container\" hidden><div class=\"sk-item\"><div class=\"sk-estimator sk-toggleable\"><input class=\"sk-toggleable__control sk-hidden--visually\" id=\"sk-estimator-id-1\" type=\"checkbox\" checked><label for=\"sk-estimator-id-1\" class=\"sk-toggleable__label sk-toggleable__label-arrow\">LinearRegression</label><div class=\"sk-toggleable__content\"><pre>LinearRegression()</pre></div></div></div></div></div>"
      ],
      "text/plain": [
       "LinearRegression()"
      ]
     },
     "execution_count": 33,
     "metadata": {},
     "output_type": "execute_result"
    }
   ],
   "source": [
    "modelo_lr = LinearRegression()\n",
    "modelo_lr.fit(x_train, y_train)"
   ]
  },
  {
   "cell_type": "code",
   "execution_count": 35,
   "metadata": {},
   "outputs": [],
   "source": [
    "predictions = modelo_lr.predict(x_test)"
   ]
  },
  {
   "cell_type": "code",
   "execution_count": 37,
   "metadata": {},
   "outputs": [
    {
     "name": "stdout",
     "output_type": "stream",
     "text": [
      "MAE: 5072.040847324885\n",
      "MSE: 89486426.11662386\n",
      "RMSE: 9459.726534981011\n"
     ]
    }
   ],
   "source": [
    "print('MAE:', metrics.mean_absolute_error(y_test, predictions))\n",
    "print('MSE:', metrics.mean_squared_error(y_test, predictions))\n",
    "print('RMSE:', np.sqrt(metrics.mean_squared_error(y_test, predictions)))"
   ]
  }
 ],
 "metadata": {
  "kernelspec": {
   "display_name": "Python 3",
   "language": "python",
   "name": "python3"
  },
  "language_info": {
   "codemirror_mode": {
    "name": "ipython",
    "version": 3
   },
   "file_extension": ".py",
   "mimetype": "text/x-python",
   "name": "python",
   "nbconvert_exporter": "python",
   "pygments_lexer": "ipython3",
   "version": "3.11.4"
  }
 },
 "nbformat": 4,
 "nbformat_minor": 2
}
