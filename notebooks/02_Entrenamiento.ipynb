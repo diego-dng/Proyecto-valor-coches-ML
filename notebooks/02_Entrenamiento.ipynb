{
 "cells": [
  {
   "cell_type": "markdown",
   "metadata": {},
   "source": [
    "# Entrenamiento y evaluación."
   ]
  },
  {
   "cell_type": "markdown",
   "metadata": {},
   "source": [
    "## Importaciones."
   ]
  },
  {
   "cell_type": "code",
   "execution_count": null,
   "metadata": {},
   "outputs": [],
   "source": [
    "import numpy as np\n",
    "import pandas as pd\n",
    "import pickle\n",
    "\n",
    "from sklearn.model_selection import train_test_split, cross_val_score\n",
    "from sklearn.preprocessing import StandardScaler, PolynomialFeatures\n",
    "from sklearn.linear_model import LinearRegression\n",
    "from sklearn.neighbors import KNeighborsRegressor\n",
    "from sklearn.ensemble import RandomForestRegressor\n",
    "from sklearn.pipeline import Pipeline\n",
    "from sklearn.svm import SVC\n",
    "from sklearn.tree import DecisionTreeRegressor\n",
    "from sklearn.decomposition import PCA\n",
    "from sklearn import metrics"
   ]
  },
  {
   "cell_type": "markdown",
   "metadata": {},
   "source": [
    "## Normalización."
   ]
  },
  {
   "cell_type": "code",
   "execution_count": null,
   "metadata": {},
   "outputs": [],
   "source": [
    "df = pd.read_csv(\"../data/train/coches_train.csv\")"
   ]
  },
  {
   "cell_type": "code",
   "execution_count": null,
   "metadata": {},
   "outputs": [],
   "source": [
    "# x = df[[\"kms\", \"power\", \"antiquity\", \"doors\", \"num_make\"]]\n",
    "x = df[[\"kms\", \"power\", \"antiquity\", \"doors\"]]\n",
    "#x = df.drop(columns=[\"make\", \"model\", \"version\", \"fuel\", \"shift\", \"color\"])\n",
    "y = df[\"price\"]\n",
    "\n",
    "scaler = StandardScaler()\n",
    "x_scaler = scaler.fit_transform(x)\n",
    "\n",
    "x_train, x_test, y_train, y_test = train_test_split(x_scaler, y, test_size=0.2, random_state=10)"
   ]
  },
  {
   "cell_type": "markdown",
   "metadata": {},
   "source": [
    "## Modelos."
   ]
  },
  {
   "cell_type": "markdown",
   "metadata": {},
   "source": [
    "### Modelo Lineal Regresion."
   ]
  },
  {
   "cell_type": "code",
   "execution_count": null,
   "metadata": {},
   "outputs": [],
   "source": [
    "modelo_lr = LinearRegression()\n",
    "modelo_lr.fit(x_train, y_train)\n",
    "\n",
    "predictions_lr = modelo_lr.predict(x_test)\n",
    "\n",
    "print(\"MAE:\", metrics.mean_absolute_error(y_test, predictions_lr))\n",
    "print(\"MAPE:\", metrics.mean_absolute_percentage_error(y_test, predictions_lr))\n",
    "print(\"MSE:\", metrics.mean_squared_error(y_test, predictions_lr))\n",
    "print(\"RMSE:\", np.sqrt(metrics.mean_squared_error(y_test, predictions_lr)))\n",
    "print(\"r2_score train\", modelo_lr.score(x_train, y_train))\n",
    "print(\"r2_score test\",modelo_lr.score(x_test, y_test))"
   ]
  },
  {
   "cell_type": "code",
   "execution_count": null,
   "metadata": {},
   "outputs": [],
   "source": [
    "with open('../models/modelo_LinearRegression/modelo_LinearRegression.pkl', \"wb\") as archivo:\n",
    "    pickle.dump(modelo_lr, archivo)"
   ]
  },
  {
   "cell_type": "markdown",
   "metadata": {},
   "source": [
    "### Modelo Lineal Regresion con regresion polinomial de 3 "
   ]
  },
  {
   "cell_type": "code",
   "execution_count": null,
   "metadata": {},
   "outputs": [],
   "source": [
    "scaler = StandardScaler()\n",
    "x_scaler = scaler.fit_transform(x)\n",
    "\n",
    "poly_feats = PolynomialFeatures(degree = 3)\n",
    "poly_feats.fit(x_scaler)\n",
    "x_poly = poly_feats.transform(x_scaler)\n",
    "\n",
    "x_train_2, x_test_2, y_train_2, y_test_2 = train_test_split(x_poly,y, test_size = 0.2, random_state=12)\n",
    "\n",
    "modelo_reg_pol = LinearRegression()\n",
    "modelo_reg_pol.fit(x_train_2, y_train_2)\n",
    "\n",
    "predictions_reg_pol = modelo_reg_pol.predict(x_test_2)\n",
    "\n",
    "print(\"MAE:\", metrics.mean_absolute_error(y_test_2, predictions_reg_pol))\n",
    "print(\"MAPE:\", metrics.mean_absolute_percentage_error(y_test_2, predictions_reg_pol))\n",
    "print(\"MSE:\", metrics.mean_squared_error(y_test_2, predictions_reg_pol))\n",
    "print(\"RMSE:\", np.sqrt(metrics.mean_squared_error(y_test_2, predictions_reg_pol)))\n",
    "print(\"r2_score train\", modelo_reg_pol.score(x_train_2, y_train_2))\n",
    "print(\"r2_score test\",modelo_reg_pol.score(x_test_2, y_test_2))\n"
   ]
  },
  {
   "cell_type": "code",
   "execution_count": null,
   "metadata": {},
   "outputs": [],
   "source": [
    "with open('../models/modelo_Polinomial_regression/modelo_Polinomial_regression.pkl', \"wb\") as archivo:\n",
    "    pickle.dump(modelo_reg_pol, archivo)"
   ]
  },
  {
   "cell_type": "markdown",
   "metadata": {},
   "source": [
    "### Modelo DecisionTreeRegressor"
   ]
  },
  {
   "cell_type": "code",
   "execution_count": null,
   "metadata": {},
   "outputs": [],
   "source": [
    "modelo_dec_tree = DecisionTreeRegressor(max_depth=20, random_state=42)\n",
    "modelo_dec_tree.fit(x_train, y_train)\n",
    "\n",
    "predictions_dec_tree = modelo_dec_tree.predict(x_test)\n",
    "\n",
    "print(\"MAE:\", metrics.mean_absolute_error(y_test, predictions_dec_tree))\n",
    "print(\"MAPE:\", metrics.mean_absolute_percentage_error(y_test, predictions_dec_tree))\n",
    "print(\"MSE:\", metrics.mean_squared_error(y_test, predictions_dec_tree))\n",
    "print(\"RMSE:\", np.sqrt(metrics.mean_squared_error(y_test, predictions_dec_tree)))\n",
    "print(\"r2_score train\", modelo_dec_tree.score(x_train, y_train))\n",
    "print(\"r2_score test\",modelo_dec_tree.score(x_test, y_test))"
   ]
  },
  {
   "cell_type": "code",
   "execution_count": null,
   "metadata": {},
   "outputs": [],
   "source": [
    "with open('../models/modelo_DecisionTreeRegressor/modelo_DecisionTreeRegressor.pkl', \"wb\") as archivo:\n",
    "    pickle.dump(modelo_dec_tree, archivo)"
   ]
  },
  {
   "cell_type": "markdown",
   "metadata": {},
   "source": [
    "### Modelo Random Forest"
   ]
  },
  {
   "cell_type": "code",
   "execution_count": 21,
   "metadata": {},
   "outputs": [
    {
     "name": "stdout",
     "output_type": "stream",
     "text": [
      "Resultados de la validación cruzada:\n",
      "Scores (negativo MAE): [-2867.92630197 -2813.14857438 -2753.83952705 -2829.63569114\n",
      " -2856.91745665]\n",
      "Promedio del MAE: 2824.293510237155\n",
      "MAE: 2603.7370954558314\n",
      "MAPE: 0.24727995619226592\n",
      "MSE: 14294460.125198295\n",
      "RMSE: 3780.8015188843615\n",
      "r2_score train 0.9665516480128659\n",
      "r2_score test 0.8245056424252162\n"
     ]
    }
   ],
   "source": [
    "modelo_rf = RandomForestRegressor(n_estimators=50, random_state=42)\n",
    "modelo_rf.fit(x_train, y_train)\n",
    "\n",
    "mae_scorer = metrics.make_scorer(metrics.mean_absolute_error, greater_is_better=False)\n",
    "\n",
    "scores = cross_val_score(modelo_rf, x_test, y_test, cv=5, scoring=mae_scorer)\n",
    "\n",
    "print(\"Resultados de la validación cruzada:\")\n",
    "print(\"Scores (negativo MAE):\", scores)\n",
    "print(\"Promedio del MAE:\", -scores.mean())\n",
    "\n",
    "predictions_rf = modelo_rf.predict(x_test)\n",
    "\n",
    "print(\"MAE:\", metrics.mean_absolute_error(y_test, predictions_rf))\n",
    "print(\"MAPE:\", metrics.mean_absolute_percentage_error(y_test, predictions_rf))\n",
    "print(\"MSE:\", metrics.mean_squared_error(y_test, predictions_rf))\n",
    "print(\"RMSE:\", np.sqrt(metrics.mean_squared_error(y_test, predictions_rf)))\n",
    "print(\"r2_score train\", modelo_rf.score(x_train, y_train))\n",
    "print(\"r2_score test\",modelo_rf.score(x_test, y_test))"
   ]
  },
  {
   "cell_type": "code",
   "execution_count": 22,
   "metadata": {},
   "outputs": [],
   "source": [
    "with open('../models//modelo_RandomForest/modelo_RandomForest.pkl', \"wb\") as archivo:\n",
    "    pickle.dump(modelo_rf, archivo)"
   ]
  },
  {
   "cell_type": "markdown",
   "metadata": {},
   "source": [
    "### Modelo KNN."
   ]
  },
  {
   "cell_type": "code",
   "execution_count": null,
   "metadata": {},
   "outputs": [],
   "source": [
    "knn_reg = KNeighborsRegressor(n_neighbors=3)\n",
    "\n",
    "knn_reg.fit(x_train, y_train)\n",
    "\n",
    "predictions_knn = knn_reg.predict(x_test)\n",
    "\n",
    "print(\"MAE:\", metrics.mean_absolute_error(y_test, predictions_knn))\n",
    "print(\"MAPE:\", metrics.mean_absolute_percentage_error(y_test, predictions_knn))\n",
    "print(\"MSE:\", metrics.mean_squared_error(y_test, predictions_knn))\n",
    "print(\"RMSE:\", np.sqrt(metrics.mean_squared_error(y_test, predictions_knn)))\n",
    "print(\"r2_score train\", knn_reg.score(x_train, y_train))\n",
    "print(\"r2_score test\",knn_reg.score(x_test, y_test))"
   ]
  },
  {
   "cell_type": "code",
   "execution_count": null,
   "metadata": {},
   "outputs": [],
   "source": [
    "with open('../models/modelo_KNeighborsRegressor/modelo_KNeighborsRegressor.pkl', \"wb\") as archivo:\n",
    "    pickle.dump(knn_reg, archivo)"
   ]
  },
  {
   "cell_type": "markdown",
   "metadata": {},
   "source": [
    "### Modelo Pipeline (PCA y KNeighborsRegressor)"
   ]
  },
  {
   "cell_type": "code",
   "execution_count": null,
   "metadata": {},
   "outputs": [],
   "source": [
    "modelo_pipeline = Pipeline([\n",
    "    ('scaler', StandardScaler()),\n",
    "    ('pca', PCA(n_components=3)),\n",
    "    ('knn', KNeighborsRegressor(n_neighbors=3))\n",
    "])\n",
    "\n",
    "modelo_pipeline.fit(x_train, y_train)\n",
    "\n",
    "prediciones_pipeline = modelo_pipeline.predict(x_test)\n",
    "\n",
    "print(\"MAE:\", metrics.mean_absolute_error(y_test, prediciones_pipeline))\n",
    "print(\"MAPE:\", metrics.mean_absolute_percentage_error(y_test, prediciones_pipeline))\n",
    "print(\"MSE:\", metrics.mean_squared_error(y_test, prediciones_pipeline))\n",
    "print(\"RMSE:\", np.sqrt(metrics.mean_squared_error(y_test, prediciones_pipeline)))\n",
    "print(\"r2_score train\", modelo_pipeline.score(x_train, y_train))\n",
    "print(\"r2_score test\",modelo_pipeline.score(x_test, y_test))"
   ]
  },
  {
   "cell_type": "code",
   "execution_count": null,
   "metadata": {},
   "outputs": [],
   "source": [
    "with open('../models/modelo_Pipeline/modelo_Pipeline.pkl', \"wb\") as archivo:\n",
    "    pickle.dump(modelo_pipeline, archivo)"
   ]
  }
 ],
 "metadata": {
  "kernelspec": {
   "display_name": "Python 3",
   "language": "python",
   "name": "python3"
  },
  "language_info": {
   "codemirror_mode": {
    "name": "ipython",
    "version": 3
   },
   "file_extension": ".py",
   "mimetype": "text/x-python",
   "name": "python",
   "nbconvert_exporter": "python",
   "pygments_lexer": "ipython3",
   "version": "3.11.5"
  }
 },
 "nbformat": 4,
 "nbformat_minor": 2
}
