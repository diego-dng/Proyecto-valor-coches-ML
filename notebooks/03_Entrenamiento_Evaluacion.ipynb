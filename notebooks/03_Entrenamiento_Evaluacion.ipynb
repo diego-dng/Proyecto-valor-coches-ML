{
 "cells": [
  {
   "cell_type": "markdown",
   "metadata": {},
   "source": [
    "# Entrenamiento y evaluación."
   ]
  },
  {
   "cell_type": "markdown",
   "metadata": {},
   "source": [
    "## Importaciones."
   ]
  },
  {
   "cell_type": "code",
   "execution_count": 1,
   "metadata": {},
   "outputs": [],
   "source": [
    "import numpy as np\n",
    "import pandas as pd\n",
    "import matplotlib.pyplot as plt\n",
    "import seaborn as sns\n",
    "\n",
    "from sklearn.model_selection import train_test_split\n",
    "from sklearn.model_selection import GridSearchCV\n",
    "\n",
    "from sklearn.preprocessing import StandardScaler, PolynomialFeatures\n",
    "\n",
    "from sklearn.linear_model import LinearRegression, LogisticRegression, Ridge, Lasso\n",
    "from sklearn.neighbors import KNeighborsRegressor\n",
    "from sklearn.ensemble import RandomForestRegressor, BaggingRegressor\n",
    "from sklearn.pipeline import Pipeline\n",
    "from sklearn.feature_selection import SelectKBest\n",
    "from sklearn.svm import SVC\n",
    "from sklearn.tree import DecisionTreeRegressor\n",
    "\n",
    "from sklearn.decomposition import PCA\n",
    "\n",
    "from sklearn import metrics\n",
    "\n",
    "import pickle"
   ]
  },
  {
   "cell_type": "markdown",
   "metadata": {},
   "source": [
    "## Normalización."
   ]
  },
  {
   "cell_type": "code",
   "execution_count": 2,
   "metadata": {},
   "outputs": [],
   "source": [
    "df = pd.read_csv(\"../data/train/coches_train.csv\")"
   ]
  },
  {
   "cell_type": "code",
   "execution_count": 28,
   "metadata": {},
   "outputs": [],
   "source": [
    "# x = df[[\"kms\", \"power\", \"antiquity\", \"doors\", \"num_make\"]]\n",
    "x = df[[\"kms\", \"power\", \"antiquity\", \"doors\"]]\n",
    "#x = df.drop(columns=[\"make\", \"model\", \"version\", \"fuel\", \"shift\", \"color\"])\n",
    "y = df[\"price\"]\n",
    "\n",
    "scaler = StandardScaler()\n",
    "x_scaler = scaler.fit_transform(x)\n",
    "\n",
    "x_train, x_test, y_train, y_test = train_test_split(x_scaler, y, test_size=0.2, random_state=10)"
   ]
  },
  {
   "cell_type": "markdown",
   "metadata": {},
   "source": [
    "## Modelos."
   ]
  },
  {
   "cell_type": "markdown",
   "metadata": {},
   "source": [
    "### Modelo Lineal Regresion."
   ]
  },
  {
   "cell_type": "code",
   "execution_count": 29,
   "metadata": {},
   "outputs": [
    {
     "name": "stdout",
     "output_type": "stream",
     "text": [
      "MAE: 3583.7838967012826\n",
      "MAPE: 0.4268264598971\n",
      "MSE: 22657410.021619365\n",
      "RMSE: 4759.980044245917\n",
      "r2_score train 0.7099096036994559\n",
      "r2_score test 0.7081511189910973\n"
     ]
    }
   ],
   "source": [
    "modelo_lr = LinearRegression()\n",
    "modelo_lr.fit(x_train, y_train)\n",
    "\n",
    "predictions = modelo_lr.predict(x_test)\n",
    "\n",
    "print(\"MAE:\", metrics.mean_absolute_error(y_test, predictions))\n",
    "print(\"MAPE:\", metrics.mean_absolute_percentage_error(y_test, predictions))\n",
    "print(\"MSE:\", metrics.mean_squared_error(y_test, predictions))\n",
    "print(\"RMSE:\", np.sqrt(metrics.mean_squared_error(y_test, predictions)))\n",
    "print(\"r2_score train\", modelo_lr.score(x_train, y_train))\n",
    "print(\"r2_score test\",modelo_lr.score(x_test, y_test))"
   ]
  },
  {
   "cell_type": "code",
   "execution_count": 5,
   "metadata": {},
   "outputs": [],
   "source": [
    "with open('../models/modelo_lr.pkl', \"wb\") as archivo:\n",
    "    pickle.dump(modelo_lr, archivo)"
   ]
  },
  {
   "cell_type": "markdown",
   "metadata": {},
   "source": [
    "### Modelo Lineal Regresion con regresion polinomial de 3 "
   ]
  },
  {
   "cell_type": "code",
   "execution_count": 30,
   "metadata": {},
   "outputs": [
    {
     "name": "stdout",
     "output_type": "stream",
     "text": [
      "MAE: 2700.360114625511\n",
      "MAPE: 0.2543162655538583\n",
      "MSE: 14408751.691395836\n",
      "RMSE: 3795.886153639995\n",
      "r2_score train 0.815680588895998\n",
      "r2_score test 0.818031430739291\n"
     ]
    }
   ],
   "source": [
    "scaler = StandardScaler()\n",
    "x_scaler = scaler.fit_transform(x)\n",
    "\n",
    "poly_feats = PolynomialFeatures(degree = 3)\n",
    "poly_feats.fit(x_scaler)\n",
    "X_poly = poly_feats.transform(x_scaler)\n",
    "\n",
    "x_train, x_test, y_train, y_test = train_test_split(X_poly,y, test_size = 0.2, random_state=12)\n",
    "\n",
    "lin_reg = LinearRegression()\n",
    "lin_reg.fit(x_train, y_train)\n",
    "\n",
    "predictions = lin_reg.predict(x_test)\n",
    "\n",
    "print(\"MAE:\", metrics.mean_absolute_error(y_test, predictions))\n",
    "print(\"MAPE:\", metrics.mean_absolute_percentage_error(y_test, predictions))\n",
    "print(\"MSE:\", metrics.mean_squared_error(y_test, predictions))\n",
    "print(\"RMSE:\", np.sqrt(metrics.mean_squared_error(y_test, predictions)))\n",
    "print(\"r2_score train\", lin_reg.score(x_train, y_train))\n",
    "print(\"r2_score test\",lin_reg.score(x_test, y_test))\n"
   ]
  },
  {
   "cell_type": "code",
   "execution_count": null,
   "metadata": {},
   "outputs": [],
   "source": [
    "x_test"
   ]
  },
  {
   "cell_type": "code",
   "execution_count": null,
   "metadata": {},
   "outputs": [],
   "source": [
    "with open('../models/modelo_polinomial_regression.pkl', \"wb\") as archivo:\n",
    "    pickle.dump(modelo_lr, archivo)"
   ]
  },
  {
   "cell_type": "code",
   "execution_count": null,
   "metadata": {},
   "outputs": [],
   "source": []
  },
  {
   "cell_type": "markdown",
   "metadata": {},
   "source": [
    "### Modelo DecisionTreeRegressor"
   ]
  },
  {
   "cell_type": "code",
   "execution_count": 31,
   "metadata": {},
   "outputs": [
    {
     "name": "stdout",
     "output_type": "stream",
     "text": [
      "MAE: 2910.1066866179317\n",
      "MAPE: 0.2675354869098931\n",
      "MSE: 19200955.48250685\n",
      "RMSE: 4381.889487710393\n",
      "r2_score train 0.9678626896376712\n",
      "r2_score test 0.7575105413415683\n"
     ]
    }
   ],
   "source": [
    "from sklearn.tree import DecisionTreeRegressor\n",
    "\n",
    "tree_reg = DecisionTreeRegressor(max_depth=20, random_state=42)\n",
    "tree_reg.fit(x_train, y_train)\n",
    "\n",
    "predictions = tree_reg.predict(x_test)\n",
    "\n",
    "print(\"MAE:\", metrics.mean_absolute_error(y_test, predictions))\n",
    "print(\"MAPE:\", metrics.mean_absolute_percentage_error(y_test, predictions))\n",
    "print(\"MSE:\", metrics.mean_squared_error(y_test, predictions))\n",
    "print(\"RMSE:\", np.sqrt(metrics.mean_squared_error(y_test, predictions)))\n",
    "print(\"r2_score train\", tree_reg.score(x_train, y_train))\n",
    "print(\"r2_score test\",tree_reg.score(x_test, y_test))"
   ]
  },
  {
   "cell_type": "code",
   "execution_count": null,
   "metadata": {},
   "outputs": [],
   "source": [
    "with open('../models/modelo_DecisionTreeRegressor.pkl', \"wb\") as archivo:\n",
    "    pickle.dump(modelo_lr, archivo)"
   ]
  },
  {
   "cell_type": "markdown",
   "metadata": {},
   "source": [
    "### Modelo KNN."
   ]
  },
  {
   "cell_type": "code",
   "execution_count": 32,
   "metadata": {},
   "outputs": [
    {
     "name": "stdout",
     "output_type": "stream",
     "text": [
      "MAE: 2692.8170836005993\n",
      "MAPE: 0.2545390234779409\n",
      "MSE: 15220307.756360913\n",
      "RMSE: 3901.3212834065475\n",
      "r2_score train 0.9024759174138186\n",
      "r2_score test 0.8077822641786143\n"
     ]
    }
   ],
   "source": [
    "knn_reg = KNeighborsRegressor(n_neighbors=3)\n",
    "\n",
    "knn_reg.fit(x_train, y_train)\n",
    "\n",
    "predictions_knn = knn_reg.predict(x_test)\n",
    "\n",
    "print(\"MAE:\", metrics.mean_absolute_error(y_test, predictions_knn))\n",
    "print(\"MAPE:\", metrics.mean_absolute_percentage_error(y_test, predictions_knn))\n",
    "print(\"MSE:\", metrics.mean_squared_error(y_test, predictions_knn))\n",
    "print(\"RMSE:\", np.sqrt(metrics.mean_squared_error(y_test, predictions_knn)))\n",
    "print(\"r2_score train\", knn_reg.score(x_train, y_train))\n",
    "print(\"r2_score test\",knn_reg.score(x_test, y_test))"
   ]
  },
  {
   "cell_type": "code",
   "execution_count": 23,
   "metadata": {},
   "outputs": [],
   "source": [
    "with open('../models/modelo_KNeighborsRegressor.pkl', \"wb\") as archivo:\n",
    "    pickle.dump(knn_reg, archivo)"
   ]
  },
  {
   "cell_type": "markdown",
   "metadata": {},
   "source": [
    "### Modelo Pipeline (PCA y KNeighborsRegressor)"
   ]
  },
  {
   "cell_type": "code",
   "execution_count": 33,
   "metadata": {},
   "outputs": [
    {
     "name": "stdout",
     "output_type": "stream",
     "text": [
      "MAE: 2735.1908809065644\n",
      "MAPE: 0.258482061975968\n",
      "MSE: 15736156.80413014\n",
      "RMSE: 3966.882504452349\n",
      "r2_score train 0.8990665470351993\n",
      "r2_score test 0.8012675906532791\n"
     ]
    }
   ],
   "source": [
    "pipeline = Pipeline([\n",
    "    ('scaler', StandardScaler()),  # Paso de estandarización\n",
    "    ('pca', PCA(n_components=3)),  # Paso de reducción de dimensionalidad con PCA\n",
    "    ('knn', KNeighborsRegressor(n_neighbors=3))  # Paso de clasificación con KNN\n",
    "])\n",
    "\n",
    "# Ajustamos el modelo en el conjunto de entrenamiento\n",
    "pipeline.fit(x_train, y_train)\n",
    "\n",
    "prediciones_pipeline = pipeline.predict(x_test)\n",
    "\n",
    "print(\"MAE:\", metrics.mean_absolute_error(y_test, prediciones_pipeline))\n",
    "print(\"MAPE:\", metrics.mean_absolute_percentage_error(y_test, prediciones_pipeline))\n",
    "print(\"MSE:\", metrics.mean_squared_error(y_test, prediciones_pipeline))\n",
    "print(\"RMSE:\", np.sqrt(metrics.mean_squared_error(y_test, prediciones_pipeline)))\n",
    "print(\"r2_score train\", pipeline.score(x_train, y_train))\n",
    "print(\"r2_score test\",pipeline.score(x_test, y_test))"
   ]
  },
  {
   "cell_type": "code",
   "execution_count": 25,
   "metadata": {},
   "outputs": [],
   "source": [
    "with open('../models/modelo_Pipeline.pkl', \"wb\") as archivo:\n",
    "    pickle.dump(pipeline, archivo)"
   ]
  }
 ],
 "metadata": {
  "kernelspec": {
   "display_name": "Python 3",
   "language": "python",
   "name": "python3"
  },
  "language_info": {
   "codemirror_mode": {
    "name": "ipython",
    "version": 3
   },
   "file_extension": ".py",
   "mimetype": "text/x-python",
   "name": "python",
   "nbconvert_exporter": "python",
   "pygments_lexer": "ipython3",
   "version": "3.11.4"
  }
 },
 "nbformat": 4,
 "nbformat_minor": 2
}
