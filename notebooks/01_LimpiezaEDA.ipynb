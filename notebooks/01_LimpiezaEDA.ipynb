{
 "cells": [
  {
   "cell_type": "markdown",
   "metadata": {},
   "source": [
    "# LimpiezaEDA."
   ]
  },
  {
   "cell_type": "code",
   "execution_count": 1,
   "metadata": {},
   "outputs": [],
   "source": [
    "import pandas as pd\n",
    "import numpy as np\n",
    "import matplotlib.pyplot as plt\n",
    "import seaborn as sns\n",
    "from datetime import datetime\n",
    "from matplotlib.colors import ListedColormap\n",
    "\n",
    "from sklearn.model_selection import train_test_split"
   ]
  },
  {
   "cell_type": "markdown",
   "metadata": {},
   "source": [
    "## Limpieza de datos."
   ]
  },
  {
   "cell_type": "code",
   "execution_count": 2,
   "metadata": {},
   "outputs": [
    {
     "data": {
      "text/html": [
       "<div>\n",
       "<style scoped>\n",
       "    .dataframe tbody tr th:only-of-type {\n",
       "        vertical-align: middle;\n",
       "    }\n",
       "\n",
       "    .dataframe tbody tr th {\n",
       "        vertical-align: top;\n",
       "    }\n",
       "\n",
       "    .dataframe thead th {\n",
       "        text-align: right;\n",
       "    }\n",
       "</style>\n",
       "<table border=\"1\" class=\"dataframe\">\n",
       "  <thead>\n",
       "    <tr style=\"text-align: right;\">\n",
       "      <th></th>\n",
       "      <th>url</th>\n",
       "      <th>company</th>\n",
       "      <th>make</th>\n",
       "      <th>model</th>\n",
       "      <th>version</th>\n",
       "      <th>price</th>\n",
       "      <th>price_financed</th>\n",
       "      <th>fuel</th>\n",
       "      <th>year</th>\n",
       "      <th>kms</th>\n",
       "      <th>...</th>\n",
       "      <th>doors</th>\n",
       "      <th>shift</th>\n",
       "      <th>color</th>\n",
       "      <th>photos</th>\n",
       "      <th>is_professional</th>\n",
       "      <th>dealer</th>\n",
       "      <th>province</th>\n",
       "      <th>country</th>\n",
       "      <th>publish_date</th>\n",
       "      <th>insert_date</th>\n",
       "    </tr>\n",
       "  </thead>\n",
       "  <tbody>\n",
       "    <tr>\n",
       "      <th>0</th>\n",
       "      <td>e158ae0ca53119ca199c28c36b5c2fcd</td>\n",
       "      <td>9881bcdd5a0ad4733037b3fb25e69c3a</td>\n",
       "      <td>SEAT</td>\n",
       "      <td>Toledo</td>\n",
       "      <td>SEAT Toledo  4p.</td>\n",
       "      <td>950</td>\n",
       "      <td>NaN</td>\n",
       "      <td>Diésel</td>\n",
       "      <td>2000.0</td>\n",
       "      <td>227000</td>\n",
       "      <td>...</td>\n",
       "      <td>4</td>\n",
       "      <td>Manual</td>\n",
       "      <td>Verde</td>\n",
       "      <td>5</td>\n",
       "      <td>False</td>\n",
       "      <td>0f4bb8455d27349b8273109b66a847f3</td>\n",
       "      <td>Navarra</td>\n",
       "      <td>Spain</td>\n",
       "      <td>2020-12-18 10:47:13</td>\n",
       "      <td>2021-01-15 00:00:00</td>\n",
       "    </tr>\n",
       "    <tr>\n",
       "      <th>1</th>\n",
       "      <td>ff267ebb7e700246f47f84f3db660b4b</td>\n",
       "      <td>9881bcdd5a0ad4733037b3fb25e69c3a</td>\n",
       "      <td>CITROEN</td>\n",
       "      <td>C1</td>\n",
       "      <td>CITROEN C1 PureTech 60KW 82CV Feel 5p.</td>\n",
       "      <td>6200</td>\n",
       "      <td>NaN</td>\n",
       "      <td>Gasolina</td>\n",
       "      <td>2017.0</td>\n",
       "      <td>50071</td>\n",
       "      <td>...</td>\n",
       "      <td>5</td>\n",
       "      <td>Manual</td>\n",
       "      <td>Blanco</td>\n",
       "      <td>6</td>\n",
       "      <td>True</td>\n",
       "      <td>Autos Raymara</td>\n",
       "      <td>Tenerife</td>\n",
       "      <td>Spain</td>\n",
       "      <td>2021-01-02 11:25:40</td>\n",
       "      <td>2021-01-15 00:00:00</td>\n",
       "    </tr>\n",
       "    <tr>\n",
       "      <th>2</th>\n",
       "      <td>de4b02db28ea7786c622b969be10c7c7</td>\n",
       "      <td>9881bcdd5a0ad4733037b3fb25e69c3a</td>\n",
       "      <td>FORD</td>\n",
       "      <td>Transit Connect</td>\n",
       "      <td>FORD Transit Connect Van 1.5 TDCi 100cv Ambien...</td>\n",
       "      <td>7851</td>\n",
       "      <td>7024.0</td>\n",
       "      <td>Diésel</td>\n",
       "      <td>2016.0</td>\n",
       "      <td>103000</td>\n",
       "      <td>...</td>\n",
       "      <td>4</td>\n",
       "      <td>Manual</td>\n",
       "      <td>Blanco</td>\n",
       "      <td>10</td>\n",
       "      <td>True</td>\n",
       "      <td>Auto 96</td>\n",
       "      <td>Barcelona</td>\n",
       "      <td>Spain</td>\n",
       "      <td>2020-12-16 10:51:45</td>\n",
       "      <td>2021-01-15 00:00:00</td>\n",
       "    </tr>\n",
       "    <tr>\n",
       "      <th>3</th>\n",
       "      <td>0449972a4d07594acf92e9a7dd28b39c</td>\n",
       "      <td>9881bcdd5a0ad4733037b3fb25e69c3a</td>\n",
       "      <td>VOLKSWAGEN</td>\n",
       "      <td>Caravelle</td>\n",
       "      <td>VOLKSWAGEN Caravelle Largo 2.0 TDI 140 Comfort...</td>\n",
       "      <td>19426</td>\n",
       "      <td>NaN</td>\n",
       "      <td>Diésel</td>\n",
       "      <td>2014.0</td>\n",
       "      <td>120000</td>\n",
       "      <td>...</td>\n",
       "      <td>4</td>\n",
       "      <td>Manual</td>\n",
       "      <td>Blanco</td>\n",
       "      <td>9</td>\n",
       "      <td>True</td>\n",
       "      <td>Inniauto</td>\n",
       "      <td>Navarra</td>\n",
       "      <td>Spain</td>\n",
       "      <td>2020-11-25 11:09:14</td>\n",
       "      <td>2021-01-15 00:00:00</td>\n",
       "    </tr>\n",
       "    <tr>\n",
       "      <th>4</th>\n",
       "      <td>12c4fa49bd4fdf23f19ecf396d3f02ef</td>\n",
       "      <td>9881bcdd5a0ad4733037b3fb25e69c3a</td>\n",
       "      <td>FORD</td>\n",
       "      <td>Transit</td>\n",
       "      <td>FORD Transit 350 96kW L4 Ambiente Propulsion T...</td>\n",
       "      <td>22850</td>\n",
       "      <td>22800.0</td>\n",
       "      <td>Diésel</td>\n",
       "      <td>2017.0</td>\n",
       "      <td>107000</td>\n",
       "      <td>...</td>\n",
       "      <td>2</td>\n",
       "      <td>Manual</td>\n",
       "      <td>Blanco</td>\n",
       "      <td>4</td>\n",
       "      <td>True</td>\n",
       "      <td>Autofleet España,s.l</td>\n",
       "      <td>Sevilla</td>\n",
       "      <td>Spain</td>\n",
       "      <td>2021-01-12 20:00:34</td>\n",
       "      <td>2021-01-15 00:00:00</td>\n",
       "    </tr>\n",
       "  </tbody>\n",
       "</table>\n",
       "<p>5 rows × 21 columns</p>\n",
       "</div>"
      ],
      "text/plain": [
       "                                url                           company  \\\n",
       "0  e158ae0ca53119ca199c28c36b5c2fcd  9881bcdd5a0ad4733037b3fb25e69c3a   \n",
       "1  ff267ebb7e700246f47f84f3db660b4b  9881bcdd5a0ad4733037b3fb25e69c3a   \n",
       "2  de4b02db28ea7786c622b969be10c7c7  9881bcdd5a0ad4733037b3fb25e69c3a   \n",
       "3  0449972a4d07594acf92e9a7dd28b39c  9881bcdd5a0ad4733037b3fb25e69c3a   \n",
       "4  12c4fa49bd4fdf23f19ecf396d3f02ef  9881bcdd5a0ad4733037b3fb25e69c3a   \n",
       "\n",
       "         make            model  \\\n",
       "0        SEAT           Toledo   \n",
       "1     CITROEN               C1   \n",
       "2        FORD  Transit Connect   \n",
       "3  VOLKSWAGEN        Caravelle   \n",
       "4        FORD          Transit   \n",
       "\n",
       "                                             version  price  price_financed  \\\n",
       "0                                   SEAT Toledo  4p.    950             NaN   \n",
       "1             CITROEN C1 PureTech 60KW 82CV Feel 5p.   6200             NaN   \n",
       "2  FORD Transit Connect Van 1.5 TDCi 100cv Ambien...   7851          7024.0   \n",
       "3  VOLKSWAGEN Caravelle Largo 2.0 TDI 140 Comfort...  19426             NaN   \n",
       "4  FORD Transit 350 96kW L4 Ambiente Propulsion T...  22850         22800.0   \n",
       "\n",
       "       fuel    year     kms  ...  doors   shift   color photos  \\\n",
       "0    Diésel  2000.0  227000  ...      4  Manual   Verde      5   \n",
       "1  Gasolina  2017.0   50071  ...      5  Manual  Blanco      6   \n",
       "2    Diésel  2016.0  103000  ...      4  Manual  Blanco     10   \n",
       "3    Diésel  2014.0  120000  ...      4  Manual  Blanco      9   \n",
       "4    Diésel  2017.0  107000  ...      2  Manual  Blanco      4   \n",
       "\n",
       "   is_professional                            dealer   province country  \\\n",
       "0            False  0f4bb8455d27349b8273109b66a847f3    Navarra   Spain   \n",
       "1             True                     Autos Raymara   Tenerife   Spain   \n",
       "2             True                           Auto 96  Barcelona   Spain   \n",
       "3             True                          Inniauto    Navarra   Spain   \n",
       "4             True              Autofleet España,s.l    Sevilla   Spain   \n",
       "\n",
       "          publish_date          insert_date  \n",
       "0  2020-12-18 10:47:13  2021-01-15 00:00:00  \n",
       "1  2021-01-02 11:25:40  2021-01-15 00:00:00  \n",
       "2  2020-12-16 10:51:45  2021-01-15 00:00:00  \n",
       "3  2020-11-25 11:09:14  2021-01-15 00:00:00  \n",
       "4  2021-01-12 20:00:34  2021-01-15 00:00:00  \n",
       "\n",
       "[5 rows x 21 columns]"
      ]
     },
     "execution_count": 2,
     "metadata": {},
     "output_type": "execute_result"
    }
   ],
   "source": [
    "# Creo el Dataframe con los datos del csv de \"coches_train.csv\"\n",
    "df = pd.read_csv(\"../data/raw/coches-de-segunda-mano-sample.csv\")\n",
    "df.head()"
   ]
  },
  {
   "cell_type": "code",
   "execution_count": 3,
   "metadata": {},
   "outputs": [],
   "source": [
    "# Elimino las columnas que no necesito.\n",
    "df = df.drop(columns=[\"url\", \"company\", \"model\", \"version\", \"color\", \"shift\",\n",
    "                       \"photos\", \"is_professional\", \"price_financed\",\n",
    "                         \"dealer\", \"province\", \"country\",\n",
    "                           \"publish_date\", \"insert_date\"])"
   ]
  },
  {
   "cell_type": "code",
   "execution_count": 4,
   "metadata": {},
   "outputs": [],
   "source": [
    "# Creo la columna antiquity para saber los años de antiguedad del coche\n",
    "year_actual = datetime.now().year\n",
    "df[\"antiquity\"] = year_actual - df[\"year\"]"
   ]
  },
  {
   "cell_type": "code",
   "execution_count": 5,
   "metadata": {},
   "outputs": [],
   "source": [
    "# Elimino los NaN.\n",
    "df = df.dropna()"
   ]
  },
  {
   "cell_type": "code",
   "execution_count": 6,
   "metadata": {},
   "outputs": [
    {
     "data": {
      "text/html": [
       "<div>\n",
       "<style scoped>\n",
       "    .dataframe tbody tr th:only-of-type {\n",
       "        vertical-align: middle;\n",
       "    }\n",
       "\n",
       "    .dataframe tbody tr th {\n",
       "        vertical-align: top;\n",
       "    }\n",
       "\n",
       "    .dataframe thead th {\n",
       "        text-align: right;\n",
       "    }\n",
       "</style>\n",
       "<table border=\"1\" class=\"dataframe\">\n",
       "  <thead>\n",
       "    <tr style=\"text-align: right;\">\n",
       "      <th></th>\n",
       "      <th>make</th>\n",
       "      <th>price</th>\n",
       "      <th>fuel</th>\n",
       "      <th>year</th>\n",
       "      <th>kms</th>\n",
       "      <th>power</th>\n",
       "      <th>doors</th>\n",
       "      <th>antiquity</th>\n",
       "    </tr>\n",
       "  </thead>\n",
       "  <tbody>\n",
       "    <tr>\n",
       "      <th>1</th>\n",
       "      <td>CITROEN</td>\n",
       "      <td>6200</td>\n",
       "      <td>Gasolina</td>\n",
       "      <td>2017.0</td>\n",
       "      <td>50071</td>\n",
       "      <td>82.0</td>\n",
       "      <td>5</td>\n",
       "      <td>6.0</td>\n",
       "    </tr>\n",
       "    <tr>\n",
       "      <th>2</th>\n",
       "      <td>FORD</td>\n",
       "      <td>7851</td>\n",
       "      <td>Diésel</td>\n",
       "      <td>2016.0</td>\n",
       "      <td>103000</td>\n",
       "      <td>100.0</td>\n",
       "      <td>4</td>\n",
       "      <td>7.0</td>\n",
       "    </tr>\n",
       "    <tr>\n",
       "      <th>3</th>\n",
       "      <td>VOLKSWAGEN</td>\n",
       "      <td>19426</td>\n",
       "      <td>Diésel</td>\n",
       "      <td>2014.0</td>\n",
       "      <td>120000</td>\n",
       "      <td>140.0</td>\n",
       "      <td>4</td>\n",
       "      <td>9.0</td>\n",
       "    </tr>\n",
       "    <tr>\n",
       "      <th>4</th>\n",
       "      <td>FORD</td>\n",
       "      <td>22850</td>\n",
       "      <td>Diésel</td>\n",
       "      <td>2017.0</td>\n",
       "      <td>107000</td>\n",
       "      <td>130.0</td>\n",
       "      <td>2</td>\n",
       "      <td>6.0</td>\n",
       "    </tr>\n",
       "    <tr>\n",
       "      <th>5</th>\n",
       "      <td>PEUGEOT</td>\n",
       "      <td>11490</td>\n",
       "      <td>Gasolina</td>\n",
       "      <td>2016.0</td>\n",
       "      <td>78665</td>\n",
       "      <td>130.0</td>\n",
       "      <td>5</td>\n",
       "      <td>7.0</td>\n",
       "    </tr>\n",
       "  </tbody>\n",
       "</table>\n",
       "</div>"
      ],
      "text/plain": [
       "         make  price      fuel    year     kms  power  doors  antiquity\n",
       "1     CITROEN   6200  Gasolina  2017.0   50071   82.0      5        6.0\n",
       "2        FORD   7851    Diésel  2016.0  103000  100.0      4        7.0\n",
       "3  VOLKSWAGEN  19426    Diésel  2014.0  120000  140.0      4        9.0\n",
       "4        FORD  22850    Diésel  2017.0  107000  130.0      2        6.0\n",
       "5     PEUGEOT  11490  Gasolina  2016.0   78665  130.0      5        7.0"
      ]
     },
     "execution_count": 6,
     "metadata": {},
     "output_type": "execute_result"
    }
   ],
   "source": [
    "df.head()"
   ]
  },
  {
   "cell_type": "code",
   "execution_count": 7,
   "metadata": {},
   "outputs": [
    {
     "data": {
      "text/plain": [
       "<Axes: xlabel='price'>"
      ]
     },
     "execution_count": 7,
     "metadata": {},
     "output_type": "execute_result"
    },
    {
     "data": {
      "image/png": "[encoded data removed]",
      "text/plain": [
       "<Figure size 800x600 with 1 Axes>"
      ]
     },
     "metadata": {},
     "output_type": "display_data"
    }
   ],
   "source": [
    "# Visualizo en un grafico de caja los Outliers.\n",
    "sns.set(style=\"whitegrid\")\n",
    "plt.figure(figsize=(8, 6))\n",
    "sns.boxplot(x=df[\"price\"], color=\"#b8c99d\")"
   ]
  },
  {
   "cell_type": "code",
   "execution_count": 8,
   "metadata": {},
   "outputs": [],
   "source": [
    "# Elimino todos coches con un precio mayor de 50 mil para quitarme Outliers.\n",
    "coches_lujo = df['price'] > 40000\n",
    "df_lujo = df[coches_lujo]\n",
    "df = df.drop(df[coches_lujo].index)"
   ]
  },
  {
   "cell_type": "code",
   "execution_count": 9,
   "metadata": {},
   "outputs": [
    {
     "data": {
      "text/plain": [
       "<Axes: xlabel='price'>"
      ]
     },
     "execution_count": 9,
     "metadata": {},
     "output_type": "execute_result"
    },
    {
     "data": {
      "image/png": "[encoded data removed]",
      "text/plain": [
       "<Figure size 800x600 with 1 Axes>"
      ]
     },
     "metadata": {},
     "output_type": "display_data"
    }
   ],
   "source": [
    "# Vuelvo a visualizar en un grafico de caja los Outliers.\n",
    "sns.set(style=\"whitegrid\")\n",
    "plt.figure(figsize=(8, 6))\n",
    "sns.boxplot(x=df[\"price\"], color=\"#b8c99d\")"
   ]
  },
  {
   "cell_type": "code",
   "execution_count": 10,
   "metadata": {},
   "outputs": [
    {
     "data": {
      "text/plain": [
       "array([4, 2], dtype=int64)"
      ]
     },
     "execution_count": 10,
     "metadata": {},
     "output_type": "execute_result"
    }
   ],
   "source": [
    "# Unifico en solo dos posibilidades la columna de puertas.\n",
    "df[\"doors\"] = df[\"doors\"].replace(5, 4)\n",
    "df[\"doors\"] = df[\"doors\"].replace(3, 2)\n",
    "df[\"doors\"].unique()"
   ]
  },
  {
   "cell_type": "code",
   "execution_count": 13,
   "metadata": {},
   "outputs": [
    {
     "data": {
      "text/plain": [
       "<Axes: >"
      ]
     },
     "execution_count": 13,
     "metadata": {},
     "output_type": "execute_result"
    },
    {
     "data": {
      "image/png": "[encoded data removed]",
      "text/plain": [
       "<Figure size 1000x600 with 2 Axes>"
      ]
     },
     "metadata": {},
     "output_type": "display_data"
    }
   ],
   "source": [
    "colors = [\"#bf496a\", \"#cf778f\", \"#dfa4b5\", \"#efd2da\", \"#ffffff\", \"#edf2e7\", \"#dce4ce\", \"#cad7b6\", \"#b8c99d\"]\n",
    "cmap = ListedColormap(sns.color_palette(colors).as_hex())\n",
    "\n",
    "sns.set(rc={'figure.figsize':(10, 6)})\n",
    "sns.heatmap(df.drop(columns=[\"make\", \"fuel\"]).corr(), cmap=cmap, annot= True)"
   ]
  },
  {
   "cell_type": "code",
   "execution_count": 21,
   "metadata": {},
   "outputs": [],
   "source": [
    "# Guardo el DataFrame en un csv.\n",
    "df.to_csv(\"../data/processed/coches_processed.csv\", index=False)"
   ]
  },
  {
   "cell_type": "code",
   "execution_count": 22,
   "metadata": {},
   "outputs": [],
   "source": [
    "# Separo el DataFrame en Train y Test, y los guardo en archivos CSV separados.\n",
    "train_df, test_df = train_test_split(df, test_size=0.2, random_state=42)\n",
    "\n",
    "train_df.to_csv(\"../data/train/coches_train.csv\", index=False)\n",
    "test_df.to_csv(\"../data/test/coches_test.csv\", index=False)"
   ]
  }
 ],
 "metadata": {
  "kernelspec": {
   "display_name": "Python 3",
   "language": "python",
   "name": "python3"
  },
  "language_info": {
   "codemirror_mode": {
    "name": "ipython",
    "version": 3
   },
   "file_extension": ".py",
   "mimetype": "text/x-python",
   "name": "python",
   "nbconvert_exporter": "python",
   "pygments_lexer": "ipython3",
   "version": "3.11.5"
  }
 },
 "nbformat": 4,
 "nbformat_minor": 2
}
